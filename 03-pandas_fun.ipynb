{
 "cells": [
  {
   "cell_type": "markdown",
   "id": "ec14961c",
   "metadata": {},
   "source": [
    "## Foundations of Pandas"
   ]
  },
  {
   "cell_type": "markdown",
   "id": "8ea24259",
   "metadata": {},
   "source": [
    "#### import libraries"
   ]
  },
  {
   "cell_type": "code",
   "execution_count": 2,
   "id": "e0bb042a",
   "metadata": {},
   "outputs": [],
   "source": [
    "import pandas as pd"
   ]
  },
  {
   "cell_type": "markdown",
   "id": "54993cbf",
   "metadata": {},
   "source": [
    "#### import data"
   ]
  },
  {
   "cell_type": "code",
   "execution_count": 3,
   "id": "f293a7c4",
   "metadata": {},
   "outputs": [],
   "source": [
    "ds = pd.read_csv('sales_export.csv')\n"
   ]
  },
  {
   "cell_type": "markdown",
   "id": "ab3ae42a",
   "metadata": {},
   "source": [
    "#### 🧪 EDA"
   ]
  },
  {
   "cell_type": "markdown",
   "id": "27d06c7e",
   "metadata": {},
   "source": [
    "#####  😀 check the first few records"
   ]
  },
  {
   "cell_type": "code",
   "execution_count": 4,
   "id": "7616a31a",
   "metadata": {},
   "outputs": [],
   "source": [
    "# your code goes here"
   ]
  },
  {
   "cell_type": "markdown",
   "id": "c5fffbca",
   "metadata": {},
   "source": [
    "##### ℹ️ get the info"
   ]
  },
  {
   "cell_type": "code",
   "execution_count": 5,
   "id": "a794d1ad",
   "metadata": {},
   "outputs": [],
   "source": [
    "# your code goes here"
   ]
  },
  {
   "cell_type": "markdown",
   "id": "53a3e45f",
   "metadata": {},
   "source": [
    "##### 📖 describe the dataset"
   ]
  },
  {
   "cell_type": "code",
   "execution_count": 6,
   "id": "6f2c5b91",
   "metadata": {},
   "outputs": [],
   "source": [
    "# your code goes here"
   ]
  },
  {
   "cell_type": "markdown",
   "id": "b092f0e2",
   "metadata": {},
   "source": [
    "##### 💊 display the column names"
   ]
  },
  {
   "cell_type": "code",
   "execution_count": 7,
   "id": "7c551be4",
   "metadata": {},
   "outputs": [],
   "source": [
    "# your code goes here"
   ]
  },
  {
   "cell_type": "markdown",
   "id": "a3438e1c",
   "metadata": {},
   "source": [
    "#### 📦 Exercise 1\n",
    "\n",
    "We need to clean up the product_code column of this dataset.\n",
    "\n",
    "Convert it to a string and remove the weird trailing '.0' that pandas has decided to add to the end\n",
    "\n",
    "Then display the updated product code"
   ]
  },
  {
   "cell_type": "markdown",
   "id": "beea3c3c",
   "metadata": {},
   "source": [
    "![fixed](images/fixed_Product_code.png)"
   ]
  },
  {
   "cell_type": "code",
   "execution_count": 8,
   "id": "3db886ba",
   "metadata": {},
   "outputs": [],
   "source": [
    "# your code goes here"
   ]
  },
  {
   "cell_type": "markdown",
   "id": "4c8d7227",
   "metadata": {},
   "source": [
    "#### 📦 Exercise 2\n",
    "\n",
    "The mananger would like to view all the items that have been voided in this dataset.\n",
    "\n",
    "Locate all the voided items and display the product_code, product_description, sale_type, and the void_flag column"
   ]
  },
  {
   "cell_type": "code",
   "execution_count": 9,
   "id": "b70a97d6",
   "metadata": {},
   "outputs": [],
   "source": [
    "# your code goes here"
   ]
  },
  {
   "cell_type": "markdown",
   "id": "2e6f5f93",
   "metadata": {},
   "source": [
    "![voids](images/voids1.png)"
   ]
  },
  {
   "cell_type": "markdown",
   "id": "2c8aab64",
   "metadata": {},
   "source": [
    "#### 📦 Exercise 3\n",
    "\n",
    "The mananger would like to view all the items that have been refunded.\n",
    "\n",
    "🧙 There is a little `trick` here, so investigate this column thoroughly.\n",
    "\n",
    "The manager would also like for you to change the sale_type to `Refunded` so future reports will display correctly.\n",
    "\n",
    "Display the product_code, product_description, sale_type, and refund_flag\n"
   ]
  },
  {
   "cell_type": "code",
   "execution_count": 10,
   "id": "3a383bd1",
   "metadata": {},
   "outputs": [],
   "source": [
    "# your code goes here"
   ]
  },
  {
   "cell_type": "markdown",
   "id": "cabe0042",
   "metadata": {},
   "source": [
    "![refunds](images/refunds.png)"
   ]
  },
  {
   "cell_type": "markdown",
   "id": "9c4b084f",
   "metadata": {},
   "source": [
    "#### 📦 Exercise 4\n",
    "\n",
    "Let's display the unique sale_type column to see what type of sales we have\n"
   ]
  },
  {
   "cell_type": "code",
   "execution_count": 11,
   "id": "e22c89ad",
   "metadata": {},
   "outputs": [],
   "source": [
    "# your code goes here"
   ]
  },
  {
   "cell_type": "markdown",
   "id": "5c71eda0",
   "metadata": {},
   "source": [
    "![uniques](images/uniques.png)"
   ]
  },
  {
   "cell_type": "markdown",
   "id": "7344244b",
   "metadata": {},
   "source": [
    "#### 📦 Exercise 5\n",
    "\n",
    "We need to do a little clean-up on our dataset.\n",
    "\n",
    "Let's change the sale_type to `Voided` where it currently equals `VOIDED`\n",
    "\n",
    "Then display the voided items to match the screenshot below\n"
   ]
  },
  {
   "cell_type": "code",
   "execution_count": 12,
   "id": "0d04245e",
   "metadata": {},
   "outputs": [],
   "source": [
    "# your code goes here"
   ]
  },
  {
   "cell_type": "markdown",
   "id": "d88a71ad",
   "metadata": {},
   "source": [
    "![void_output](images/void_output.png)"
   ]
  },
  {
   "cell_type": "markdown",
   "id": "76d778a9",
   "metadata": {},
   "source": [
    "#### 📦 Exercise 6\n",
    "\n",
    "The manage just noticed that item 14 has a really messy description.\n",
    "\n",
    "We need to clean this item up by removing the percent \n",
    "\n",
    "then show the manager that the item has been corrected\n"
   ]
  },
  {
   "cell_type": "markdown",
   "id": "6121d642",
   "metadata": {},
   "source": [
    "##### 🧠 Tricks to consider\n",
    "\n",
    "- <strong>`mask`</strong>:         finds the rows where the condition matches.\n",
    "- <strong>`loc[...]`</strong>:     scopes the changes to just those rows and that column\n",
    "- <strong>`.astype(str)`</strong>: ensures no weird types break the .str methods\n",
    "- <strong>`.str.replace`</strong>: replaces all `%` signs with a space"
   ]
  },
  {
   "cell_type": "code",
   "execution_count": 13,
   "id": "bdf02ad2",
   "metadata": {},
   "outputs": [],
   "source": [
    "# your code goes here"
   ]
  },
  {
   "cell_type": "markdown",
   "id": "8c90c880",
   "metadata": {},
   "source": [
    "![fixed](images/fixed_description.png)"
   ]
  },
  {
   "cell_type": "markdown",
   "id": "d21b208c",
   "metadata": {},
   "source": [
    "#### 📦 Exercise 7\n",
    "\n",
    "The manager would like to make the sale_type column a litte more consistent.\n",
    "\n",
    "Rename all records with a sale_type of `SALE` to just read `Sale`.\n",
    "\n",
    "Then display the newly updated unique sale types\n"
   ]
  },
  {
   "cell_type": "code",
   "execution_count": 14,
   "id": "00741716",
   "metadata": {},
   "outputs": [],
   "source": [
    "# your code goes here"
   ]
  },
  {
   "cell_type": "markdown",
   "id": "228c023c",
   "metadata": {},
   "source": [
    "![new_uniques](images/new_uniques.png)"
   ]
  },
  {
   "cell_type": "markdown",
   "id": "27c607e9",
   "metadata": {},
   "source": [
    "#### 📦 Exercise 8\n",
    "\n",
    "The manager would like to view a simple report where the data is grouped by the `product_description`\n",
    "\n",
    "They want the quantities summed up\n",
    "They would also like the total sales summed up\n",
    "\n",
    "They want to view the descriptions, qty, sales, and the product code\n",
    "\n",
    "They also want the grouped data to be sorted by the total_sales\n"
   ]
  },
  {
   "cell_type": "code",
   "execution_count": 15,
   "id": "f5230a48",
   "metadata": {},
   "outputs": [],
   "source": [
    "# your code goes here"
   ]
  },
  {
   "cell_type": "markdown",
   "id": "c7c4d59c",
   "metadata": {},
   "source": [
    "![grouped](images/grouped.png)"
   ]
  },
  {
   "cell_type": "markdown",
   "id": "5c7facde",
   "metadata": {},
   "source": [
    "### 🍰 Congrats\n",
    "\n",
    "I hope you made it this far with success. If so, feel good, but we are not done yet. \n",
    "\n",
    "There is more fun to be had"
   ]
  }
 ],
 "metadata": {
  "kernelspec": {
   "display_name": "env",
   "language": "python",
   "name": "python3"
  },
  "language_info": {
   "codemirror_mode": {
    "name": "ipython",
    "version": 3
   },
   "file_extension": ".py",
   "mimetype": "text/x-python",
   "name": "python",
   "nbconvert_exporter": "python",
   "pygments_lexer": "ipython3",
   "version": "3.11.4"
  }
 },
 "nbformat": 4,
 "nbformat_minor": 5
}
