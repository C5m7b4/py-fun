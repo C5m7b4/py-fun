{
 "cells": [
  {
   "cell_type": "markdown",
   "id": "17bf4a09",
   "metadata": {},
   "source": [
    "## List Comprehensions"
   ]
  },
  {
   "cell_type": "markdown",
   "id": "228e2280",
   "metadata": {},
   "source": [
    "### Action - Source - Condition (ASC)\n",
    "\n",
    "we have 3 components.\n",
    "- action: what do I want to do with a piece of data\n",
    "- source: where does the data come from\n",
    "- condition: do I want all data or is there a condition:"
   ]
  },
  {
   "cell_type": "markdown",
   "id": "4e2cfa17",
   "metadata": {},
   "source": [
    "#### 📦 Excercise 1\n",
    "\n",
    "Given a list of names:\n",
    "\n",
    "- only take names with more than 4 characters\n",
    "- Change all names to title case"
   ]
  },
  {
   "cell_type": "code",
   "execution_count": 1,
   "id": "206561d0",
   "metadata": {},
   "outputs": [],
   "source": [
    "names = ['alex', 'heather', 'tim', 'daniel', 'charlotte']"
   ]
  },
  {
   "cell_type": "code",
   "execution_count": 2,
   "id": "d5fa0007",
   "metadata": {},
   "outputs": [
    {
     "data": {
      "text/plain": [
       "['Heather', 'Daniel', 'Charlotte']"
      ]
     },
     "execution_count": 2,
     "metadata": {},
     "output_type": "execute_result"
    }
   ],
   "source": [
    "[name.title() for name in names if len(name) > 4]"
   ]
  },
  {
   "cell_type": "markdown",
   "id": "6c0cd74e",
   "metadata": {},
   "source": [
    "#### 📦 Excercise 2\n",
    "\n",
    "Take the imperative code and change it to use declarative code via list comprehensions"
   ]
  },
  {
   "cell_type": "code",
   "execution_count": 3,
   "id": "92fc93b6",
   "metadata": {},
   "outputs": [
    {
     "name": "stdout",
     "output_type": "stream",
     "text": [
      "4\n"
     ]
    }
   ],
   "source": [
    "file = open('hello.txt')\n",
    "contents = file.read()\n",
    "vowels = []\n",
    "for letter in contents:\n",
    "    lower = letter.lower()\n",
    "    if lower in 'aeiou':\n",
    "        vowels.append(lower)\n",
    "\n",
    "\n",
    "print(len(vowels))\n"
   ]
  },
  {
   "cell_type": "code",
   "execution_count": 6,
   "id": "c3f33837",
   "metadata": {},
   "outputs": [
    {
     "name": "stdout",
     "output_type": "stream",
     "text": [
      "4\n"
     ]
    }
   ],
   "source": [
    "vowels = [letter for letter in open('hello.txt').read().lower() if letter in 'aeiou']\n",
    "print(len(vowels))"
   ]
  },
  {
   "cell_type": "markdown",
   "id": "f2f64f58",
   "metadata": {},
   "source": [
    "#### 📦 Excercise 3\n",
    "\n",
    "Take the imperative code and change it to use declarative code via list comprehensions"
   ]
  },
  {
   "cell_type": "code",
   "execution_count": 1,
   "id": "68691936",
   "metadata": {},
   "outputs": [
    {
     "name": "stdout",
     "output_type": "stream",
     "text": [
      "1\n"
     ]
    }
   ],
   "source": [
    "import os\n",
    "txt_files = []\n",
    "for file in os.listdir('.'):\n",
    "    if file.endswith('.txt'):\n",
    "        txt_files.append(file)\n",
    "\n",
    "print(len(txt_files))"
   ]
  },
  {
   "cell_type": "code",
   "execution_count": 2,
   "id": "8e3fc3db",
   "metadata": {},
   "outputs": [
    {
     "name": "stdout",
     "output_type": "stream",
     "text": [
      "1\n"
     ]
    }
   ],
   "source": [
    "files = [file for file in os.listdir('.') if file.endswith('.txt')]\n",
    "print(len(files))"
   ]
  },
  {
   "cell_type": "markdown",
   "id": "c47afcd2",
   "metadata": {},
   "source": [
    "#### 📦 Excercise 4\n",
    "\n",
    "Take the imperative code and change it to use declarative code via list comprehensions"
   ]
  },
  {
   "cell_type": "code",
   "execution_count": 5,
   "id": "327b8235",
   "metadata": {},
   "outputs": [
    {
     "name": "stdout",
     "output_type": "stream",
     "text": [
      "[10.5, 12.5, 14.5, 16.5, 18.5, 20.5]\n"
     ]
    }
   ],
   "source": [
    "evens = []\n",
    "for i in range(10, 21):\n",
    "    if i % 2 == 0:\n",
    "        evens.append(i + 0.5)\n",
    "\n",
    "print(evens)"
   ]
  },
  {
   "cell_type": "code",
   "execution_count": 6,
   "id": "5b44eb21",
   "metadata": {},
   "outputs": [
    {
     "data": {
      "text/plain": [
       "[10.5, 12.5, 14.5, 16.5, 18.5, 20.5]"
      ]
     },
     "execution_count": 6,
     "metadata": {},
     "output_type": "execute_result"
    }
   ],
   "source": [
    "[num+0.5 for num in range(10, 21) if num % 2 == 0]"
   ]
  },
  {
   "cell_type": "markdown",
   "id": "9d5511a3",
   "metadata": {},
   "source": [
    "#### 📦 Excercise 5\n",
    "\n",
    "🗞️ using custom functions\n",
    "\n",
    "Take the imperative code and change it to use declarative code via list comprehensions\n",
    "\n",
    "you should be able to do this as a one-liner"
   ]
  },
  {
   "cell_type": "code",
   "execution_count": 7,
   "id": "8abf58ce",
   "metadata": {},
   "outputs": [],
   "source": [
    "def add_10(n:int) -> int:\n",
    "    return n + 10"
   ]
  },
  {
   "cell_type": "code",
   "execution_count": 8,
   "id": "79f3c9b4",
   "metadata": {},
   "outputs": [
    {
     "name": "stdout",
     "output_type": "stream",
     "text": [
      "[11, 12, 13, 14, 15]\n"
     ]
    }
   ],
   "source": [
    "numbers = [1,2,3,4,5]\n",
    "new = []\n",
    "for n in numbers:\n",
    "    new.append(add_10(n))\n",
    "\n",
    "print(new)"
   ]
  },
  {
   "cell_type": "code",
   "execution_count": 10,
   "id": "2f19f756",
   "metadata": {},
   "outputs": [
    {
     "data": {
      "text/plain": [
       "[11, 12, 13, 14, 15]"
      ]
     },
     "execution_count": 10,
     "metadata": {},
     "output_type": "execute_result"
    }
   ],
   "source": [
    "[add_10(n) for n in numbers]"
   ]
  },
  {
   "cell_type": "markdown",
   "id": "82ac3ca5",
   "metadata": {},
   "source": [
    "#### 📦 Excercise 6\n",
    "\n",
    "🗽 using complex conditions\n",
    "\n",
    "In this exercise, we only want to return names where the evalulation of `is_valid` results in true\n",
    "\n",
    "use list comprehension to achive this. This should be a one-liner"
   ]
  },
  {
   "cell_type": "code",
   "execution_count": 11,
   "id": "ca881ce8",
   "metadata": {},
   "outputs": [],
   "source": [
    "def is_valid(name):\n",
    "    return len(name) >= 4 and name.istitle() and name.isalpha()"
   ]
  },
  {
   "cell_type": "code",
   "execution_count": 12,
   "id": "a0f0cc40",
   "metadata": {},
   "outputs": [],
   "source": [
    "usernames = ['John', 'Alexender', 'Ian', 'Sar4h', 'Alice']"
   ]
  },
  {
   "cell_type": "code",
   "execution_count": 15,
   "id": "69b3d939",
   "metadata": {},
   "outputs": [
    {
     "data": {
      "text/plain": [
       "['John', 'Alexender', 'Alice']"
      ]
     },
     "execution_count": 15,
     "metadata": {},
     "output_type": "execute_result"
    }
   ],
   "source": [
    "[name for name in usernames if is_valid(name)]"
   ]
  },
  {
   "cell_type": "markdown",
   "id": "fbe58796",
   "metadata": {},
   "source": [
    "#### 📦 Exercise 7\n",
    "\n",
    "📰 using else\n"
   ]
  },
  {
   "cell_type": "code",
   "execution_count": 16,
   "id": "a088b738",
   "metadata": {},
   "outputs": [],
   "source": [
    "foods = ['apple', 'bananna', 'Cherry', 'Vanilla', 'grape']"
   ]
  },
  {
   "cell_type": "markdown",
   "id": "806a8db9",
   "metadata": {},
   "source": [
    "- only return the names that are more than 5 characters\n",
    "- if the name is title case, make it all lower case\n",
    "- if the name is not in the title case, make it title case\n",
    "- see if you can do this as a one-liner list comprehension"
   ]
  },
  {
   "cell_type": "code",
   "execution_count": 19,
   "id": "7bb86c48",
   "metadata": {},
   "outputs": [
    {
     "data": {
      "text/plain": [
       "['Bananna', 'cherry', 'vanilla']"
      ]
     },
     "execution_count": 19,
     "metadata": {},
     "output_type": "execute_result"
    }
   ],
   "source": [
    "[f.title() if not f.istitle() else f.lower() for f in foods if len(f) > 5]"
   ]
  },
  {
   "cell_type": "markdown",
   "id": "5050f1c5",
   "metadata": {},
   "source": []
  }
 ],
 "metadata": {
  "kernelspec": {
   "display_name": "env",
   "language": "python",
   "name": "python3"
  },
  "language_info": {
   "codemirror_mode": {
    "name": "ipython",
    "version": 3
   },
   "file_extension": ".py",
   "mimetype": "text/x-python",
   "name": "python",
   "nbconvert_exporter": "python",
   "pygments_lexer": "ipython3",
   "version": "3.11.4"
  }
 },
 "nbformat": 4,
 "nbformat_minor": 5
}
