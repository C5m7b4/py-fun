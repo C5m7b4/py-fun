{
 "cells": [
  {
   "cell_type": "markdown",
   "id": "e769072c",
   "metadata": {},
   "source": [
    "## Foundations Python & Math Test Notebook\n",
    "\n",
    "### 🥾 Boot Camp"
   ]
  },
  {
   "cell_type": "markdown",
   "id": "af907c63",
   "metadata": {},
   "source": [
    "### 1. Mean, Median, Mode (No libraries)\n",
    "actual_numbers = [1, 2, 2, 3, 4, 4, 4, 5, 6]\n",
    "\n",
    "- TODO: Compute the mean\n",
    "- TODO: Compute the mode (assume only one mode)\n",
    "- TODO: Compute the median (assume odd length)"
   ]
  },
  {
   "cell_type": "code",
   "execution_count": 2,
   "id": "40809b24",
   "metadata": {},
   "outputs": [],
   "source": [
    "actual_numbers = [1, 2, 2, 3, 4, 4, 4, 5, 6]"
   ]
  },
  {
   "cell_type": "markdown",
   "id": "3b55e5c5",
   "metadata": {},
   "source": [
    "#### 📊 Mean (Arithmetic Average)\n",
    "\n",
    "The mean is calculated as:\n",
    "\n",
    "$\n",
    "\\LARGE\n",
    "\\bar{x} = \\frac{1}{n} \\sum_{i=1}^{n} x_i\n",
    "$\n",
    "\n",
    "Where:\n",
    "- $ \\bar{x} $ is the mean (average),\n",
    "- $ n $ is the number of observations,\n",
    "- $ x_i $ is each individual value in the dataset.\n"
   ]
  },
  {
   "cell_type": "code",
   "execution_count": 3,
   "id": "47e1af03",
   "metadata": {},
   "outputs": [
    {
     "data": {
      "text/plain": [
       "3.4444444444444446"
      ]
     },
     "execution_count": 3,
     "metadata": {},
     "output_type": "execute_result"
    }
   ],
   "source": [
    "mean = sum(actual_numbers) / len(actual_numbers)\n",
    "mean"
   ]
  },
  {
   "cell_type": "markdown",
   "id": "b7b0c033",
   "metadata": {},
   "source": [
    "#### 🔁 Mode (Most Frequent Value)\n",
    "\n",
    "The **mode** is the value that appears most frequently in a dataset.\n",
    "\n",
    "For a dataset:\n",
    "\n",
    "$\n",
    "X = \\{x_1, x_2, \\dots, x_n\\}\n",
    "$\n",
    "\n",
    "The mode is defined as:\n",
    "\n",
    "$\n",
    "\\text{mode}(X) = \\argmax_{x_i} \\; \\text{count}(x_i)\n",
    "$\n",
    "\n",
    "Where:\n",
    "- $ x_i $ is a value in the dataset,\n",
    "- $ \\text{count}(x_i) $ is the number of times $ x_i $ appears,\n",
    "- $ \\argmax $ returns the value with the highest frequency.\n",
    "\n"
   ]
  },
  {
   "cell_type": "code",
   "execution_count": null,
   "id": "5b5ed8d2",
   "metadata": {},
   "outputs": [
    {
     "data": {
      "text/plain": [
       "4"
      ]
     },
     "execution_count": 4,
     "metadata": {},
     "output_type": "execute_result"
    }
   ],
   "source": [
    "mode = max(set(actual_numbers), key=actual_numbers.count)\n",
    "mode"
   ]
  },
  {
   "cell_type": "markdown",
   "id": "9bee5912",
   "metadata": {},
   "source": [
    "#### 🔹 Median (Middle Value)\n",
    "\n",
    "The **median** is the value separating the higher half from the lower half of a dataset.\n",
    "\n",
    "For a sorted dataset:\n",
    "\n",
    "$\n",
    "X = \\{x_1, x_2, \\dots, x_n\\} \\quad \\text{with} \\quad x_1 \\le x_2 \\le \\dots \\le x_n\n",
    "$\n",
    "\n",
    "The median is defined as:\n",
    "\n",
    "- If \\( n \\) is **odd**:\n",
    "\n",
    "$\n",
    "\\Large\n",
    "\\text{median}(X) = x_{\\frac{n+1}{2}}\n",
    "$\n",
    "\n",
    "- If \\( n \\) is **even**:\n",
    "\n",
    "$\n",
    "\\Large\n",
    "\\text{median}(X) = \\frac{x_{\\frac{n}{2}} + x_{\\frac{n}{2} + 1}}{2}\n",
    "$\n",
    "\n",
    "Where:\n",
    "- $ n $ is the number of elements in the dataset,\n",
    "- $ x_i $ is the $ i $-th smallest value in the sorted dataset.\n",
    "\n",
    "> 🔎 Note: You must **sort** the data first before computing the median.\n"
   ]
  },
  {
   "cell_type": "code",
   "execution_count": 8,
   "id": "9a668ad1",
   "metadata": {},
   "outputs": [
    {
     "data": {
      "text/plain": [
       "4"
      ]
     },
     "execution_count": 8,
     "metadata": {},
     "output_type": "execute_result"
    }
   ],
   "source": [
    "median = (lambda x: x[len(x)//2] if len(x) % 2 else (x[len(x)//2 - 1] + x[len(x)//2] / 2))(sorted(actual_numbers))\n",
    "median"
   ]
  }
 ],
 "metadata": {
  "kernelspec": {
   "display_name": "env",
   "language": "python",
   "name": "python3"
  },
  "language_info": {
   "codemirror_mode": {
    "name": "ipython",
    "version": 3
   },
   "file_extension": ".py",
   "mimetype": "text/x-python",
   "name": "python",
   "nbconvert_exporter": "python",
   "pygments_lexer": "ipython3",
   "version": "3.11.4"
  }
 },
 "nbformat": 4,
 "nbformat_minor": 5
}
