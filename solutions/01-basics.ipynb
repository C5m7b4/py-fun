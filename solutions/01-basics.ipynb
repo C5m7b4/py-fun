{
 "cells": [
  {
   "cell_type": "markdown",
   "id": "e1751d30",
   "metadata": {},
   "source": [
    "### 📘 Python Readiness Checkpoint"
   ]
  },
  {
   "cell_type": "markdown",
   "id": "d363ad1e",
   "metadata": {},
   "source": [
    "#### 🔁 Task 1: Loop and Conditionals"
   ]
  },
  {
   "cell_type": "markdown",
   "id": "17eaf05a",
   "metadata": {},
   "source": [
    "Loop through numbers 1 to 20\n",
    "Print \"even\" if the number is even, otherwise print the number\n",
    "\n",
    "TODO:\n",
    "for i in range(1, 21):\n",
    "     ..."
   ]
  },
  {
   "cell_type": "code",
   "execution_count": 1,
   "id": "f529708c",
   "metadata": {},
   "outputs": [
    {
     "name": "stdout",
     "output_type": "stream",
     "text": [
      "even\n",
      "1\n",
      "even\n",
      "3\n",
      "even\n",
      "5\n",
      "even\n",
      "7\n",
      "even\n",
      "9\n",
      "even\n",
      "11\n",
      "even\n",
      "13\n",
      "even\n",
      "15\n",
      "even\n",
      "17\n",
      "even\n",
      "19\n",
      "even\n"
     ]
    }
   ],
   "source": [
    "for i in range(0, 21):\n",
    "    if i % 2 == 0:\n",
    "        print('even')\n",
    "    else:\n",
    "        print(i)"
   ]
  },
  {
   "cell_type": "markdown",
   "id": "e831cb93",
   "metadata": {},
   "source": [
    "\n",
    "\n",
    "#### 📦 Task 2: Function Writing\n",
    "\n",
    "Write a function called `square_sum` that takes a list of numbers\n",
    "and returns the sum of their squares.\n",
    "\n",
    "TODO:\n",
    "def square_sum(nums):\n",
    "    ...\n",
    "\n",
    "Example:\n",
    "square_sum([1, 2, 3]) → 14"
   ]
  },
  {
   "cell_type": "code",
   "execution_count": 4,
   "id": "53cc9aab",
   "metadata": {},
   "outputs": [
    {
     "name": "stdout",
     "output_type": "stream",
     "text": [
      "14\n"
     ]
    }
   ],
   "source": [
    "def square_sum(x):\n",
    "    result = 0\n",
    "    for i in x:\n",
    "        result += i **2\n",
    "    return result\n",
    "\n",
    "nums = [1,2,3]\n",
    "print(square_sum(nums))        "
   ]
  },
  {
   "cell_type": "code",
   "execution_count": 8,
   "id": "71edbdd2",
   "metadata": {},
   "outputs": [
    {
     "name": "stdout",
     "output_type": "stream",
     "text": [
      "14\n"
     ]
    }
   ],
   "source": [
    "def square_sum2(xs):\n",
    "    return sum(x ** 2 for x in xs)\n",
    "print(square_sum2(nums))"
   ]
  },
  {
   "cell_type": "markdown",
   "id": "0b875a5d",
   "metadata": {},
   "source": [
    "\n",
    "#### 🔍 Task 3: String Manipulation\n",
    "\n",
    "Given a string, remove all vowels (a, e, i, o, u).\n",
    "\n",
    "TODO:\n",
    "def remove_vowels(s):\n",
    "    ...\n",
    "\n",
    "Example:\n",
    "remove_vowels(\"hello world\") → \"hll wrld\""
   ]
  },
  {
   "cell_type": "code",
   "execution_count": 15,
   "id": "708bdd86",
   "metadata": {},
   "outputs": [
    {
     "name": "stdout",
     "output_type": "stream",
     "text": [
      "Hll Wrld!\n"
     ]
    }
   ],
   "source": [
    "def remove_vowels(s):\n",
    "    vowels = 'aeiou'\n",
    "    result = ''\n",
    "    for char in s:\n",
    "        if char.lower() not in vowels:\n",
    "            result += char\n",
    "    return result\n",
    "print(remove_vowels('Hello World!'))"
   ]
  },
  {
   "cell_type": "code",
   "execution_count": 12,
   "id": "1cc46363",
   "metadata": {},
   "outputs": [
    {
     "name": "stdout",
     "output_type": "stream",
     "text": [
      "Hll Wrld!\n"
     ]
    }
   ],
   "source": [
    "def remove_vowels1(s: str) -> str:\n",
    "    return ''.join(c for c in s if c.lower() not in 'aeiou')\n",
    "\n",
    "print(remove_vowels1('Hello World!'))"
   ]
  },
  {
   "cell_type": "markdown",
   "id": "5665ff74",
   "metadata": {},
   "source": [
    "#### 📚 Task 4: Dictionary Practice\n",
    "\n",
    "Given a list of names, return a dictionary where each name is the key\n",
    "and the value is the length of the name.\n",
    "\n",
    "TODO:\n",
    "def name_lengths(names):\n",
    "    ...\n",
    "\n",
    "Example:\n",
    "name_lengths([\"Alice\", \"Bob\"]) → {\"Alice\": 5, \"Bob\": 3}"
   ]
  },
  {
   "cell_type": "code",
   "execution_count": 16,
   "id": "75862409",
   "metadata": {},
   "outputs": [],
   "source": [
    "names = ['Alice', 'Bob']\n"
   ]
  },
  {
   "cell_type": "code",
   "execution_count": 18,
   "id": "330d866e",
   "metadata": {},
   "outputs": [
    {
     "name": "stdout",
     "output_type": "stream",
     "text": [
      "{'Alice': 5, 'Bob': 3}\n"
     ]
    }
   ],
   "source": [
    "def name_lengths(names):\n",
    "    return {name: len(name) for name in names}\n",
    "print(name_lengths(names))"
   ]
  },
  {
   "cell_type": "markdown",
   "id": "801a926d",
   "metadata": {},
   "source": [
    "#### ✅ Task 5: Palindrome Checker with Assertion\n",
    "\n",
    "Write a function that returns True if the string is a palindrome\n",
    "\n",
    "TODO:\n",
    "def is_palindrome(s):\n",
    "    ...\n",
    "\n",
    "Then test it:\n",
    "assert is_palindrome(\"racecar\") == True\n",
    "assert is_palindrome(\"hello\") == False"
   ]
  },
  {
   "cell_type": "code",
   "execution_count": 25,
   "id": "3d493387",
   "metadata": {},
   "outputs": [
    {
     "name": "stdout",
     "output_type": "stream",
     "text": [
      "True\n"
     ]
    }
   ],
   "source": [
    "def is_palindrome(s: str):\n",
    "    reversed = s[::-1]\n",
    "    if reversed == s:\n",
    "        return True\n",
    "    else:\n",
    "        return False\n",
    "print(is_palindrome('racecar'))"
   ]
  },
  {
   "cell_type": "code",
   "execution_count": 31,
   "id": "af93224f",
   "metadata": {},
   "outputs": [],
   "source": [
    "def is_palindrome1(s):\n",
    "    return s == s[::-1]"
   ]
  },
  {
   "cell_type": "code",
   "execution_count": 32,
   "id": "9b8479fa",
   "metadata": {},
   "outputs": [],
   "source": [
    "assert is_palindrome('racecar') == True\n",
    "assert is_palindrome('hello') == False"
   ]
  },
  {
   "cell_type": "code",
   "execution_count": 33,
   "id": "26343f63",
   "metadata": {},
   "outputs": [],
   "source": [
    "assert is_palindrome1('racecar') == True\n",
    "assert is_palindrome1('hello') == False"
   ]
  },
  {
   "cell_type": "markdown",
   "id": "dcefe8bf",
   "metadata": {},
   "source": [
    "\n",
    "\n",
    "### 🎉 Great job!\n",
    "\n",
    "\n",
    "If you complete these successfully, you're ready for the next notebook: `02-bootcamp.ipynb`\n"
   ]
  }
 ],
 "metadata": {
  "kernelspec": {
   "display_name": "env",
   "language": "python",
   "name": "python3"
  },
  "language_info": {
   "codemirror_mode": {
    "name": "ipython",
    "version": 3
   },
   "file_extension": ".py",
   "mimetype": "text/x-python",
   "name": "python",
   "nbconvert_exporter": "python",
   "pygments_lexer": "ipython3",
   "version": "3.11.4"
  }
 },
 "nbformat": 4,
 "nbformat_minor": 5
}
