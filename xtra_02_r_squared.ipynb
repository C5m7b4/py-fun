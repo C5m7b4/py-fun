{
 "cells": [
  {
   "cell_type": "markdown",
   "id": "907d0643",
   "metadata": {},
   "source": [
    "## 🧪 Coding Challenge: Implementing R² Score\n",
    "\n",
    "Welcome back! In this challenge, you'll implement the **Coefficient of Determination (R² Score)**, one of the most important metrics in regression analysis.\n",
    "\n",
    "You crushed the Mean Squared Error (MSE) challenge — now it's time to level up.\n"
   ]
  },
  {
   "cell_type": "markdown",
   "id": "936e2eec",
   "metadata": {},
   "source": [
    "## 📊 What is R² Score?\n",
    "\n",
    "The R² score tells us how well our regression predictions approximate the real data points. It is defined as:\n",
    "\n",
    "$\n",
    "\\Large\n",
    "R^2 = 1 - \\frac{\\sum (y_i - \\hat{y}_i)^2}{\\sum (y_i - \\bar{y})^2}\n",
    "$\n",
    "\n",
    "Where:\n",
    "- $ y_{i} $: actual values\n",
    "- $ \\hat{y}_i $: predicted values\n",
    "- $ \\bar{y} $: mean of the actual values\n",
    "\n",
    "Your task is to **recreate this formula using pure Python and list comprehension**.\n"
   ]
  },
  {
   "cell_type": "code",
   "execution_count": 2,
   "id": "5db297c1",
   "metadata": {},
   "outputs": [],
   "source": [
    "# ✅ Provided data\n",
    "actual = [3.0, -0.5, 2.0, 7.0]\n",
    "predicted = [2.5, 0.0, 2.0, 8.0]\n"
   ]
  },
  {
   "cell_type": "markdown",
   "id": "cdb80efb",
   "metadata": {},
   "source": [
    "## 🧠 Challenge\n",
    "\n",
    "Using the `actual` and `predicted` lists above, calculate the R² Score using **pure Python** and **list comprehensions** only.\n",
    "\n",
    "You may:\n",
    "- Use `sum()`, `len()`\n",
    "- Use `zip()`\n",
    "- Use list comprehensions\n",
    "- Compute the mean using `sum(actual) / len(actual)`\n",
    "\n",
    "You may **not**:\n",
    "- Use `numpy`, `pandas`, or `sklearn` (this ain’t no free ride)\n",
    "\n",
    "🚀 Your goal:\n",
    "```python\n",
    "r2 = ...\n"
   ]
  },
  {
   "cell_type": "markdown",
   "id": "2d0997fe",
   "metadata": {},
   "source": [
    "Remember, this doesn't have to be a one liner!!"
   ]
  },
  {
   "cell_type": "code",
   "execution_count": 23,
   "id": "72b18ee3",
   "metadata": {},
   "outputs": [],
   "source": [
    "# your code goes here"
   ]
  },
  {
   "cell_type": "markdown",
   "id": "f64e5956",
   "metadata": {},
   "source": [
    "##### my code"
   ]
  },
  {
   "cell_type": "code",
   "execution_count": 24,
   "id": "ec75268b",
   "metadata": {},
   "outputs": [],
   "source": [
    "y_mean = sum(actual) / len(actual)"
   ]
  },
  {
   "cell_type": "code",
   "execution_count": 25,
   "id": "3055e93d",
   "metadata": {},
   "outputs": [
    {
     "data": {
      "text/plain": [
       "2.875"
      ]
     },
     "execution_count": 25,
     "metadata": {},
     "output_type": "execute_result"
    }
   ],
   "source": [
    "y_mean"
   ]
  },
  {
   "cell_type": "code",
   "execution_count": 26,
   "id": "11431964",
   "metadata": {},
   "outputs": [],
   "source": [
    "numerator = sum([(a - p)**2 for a, p in zip(actual, predicted)])"
   ]
  },
  {
   "cell_type": "code",
   "execution_count": 27,
   "id": "23a5b34c",
   "metadata": {},
   "outputs": [
    {
     "data": {
      "text/plain": [
       "1.5"
      ]
     },
     "execution_count": 27,
     "metadata": {},
     "output_type": "execute_result"
    }
   ],
   "source": [
    "numerator"
   ]
  },
  {
   "cell_type": "code",
   "execution_count": 28,
   "id": "7db8f66c",
   "metadata": {},
   "outputs": [
    {
     "data": {
      "text/plain": [
       "29.1875"
      ]
     },
     "execution_count": 28,
     "metadata": {},
     "output_type": "execute_result"
    }
   ],
   "source": [
    "denominator = sum([(a - y_mean)**2 for a in actual])\n",
    "denominator"
   ]
  },
  {
   "cell_type": "code",
   "execution_count": 29,
   "id": "160f9f1d",
   "metadata": {},
   "outputs": [
    {
     "data": {
      "text/plain": [
       "0.9486081370449679"
      ]
     },
     "execution_count": 29,
     "metadata": {},
     "output_type": "execute_result"
    }
   ],
   "source": [
    "r2 =  1 - (numerator / denominator)\n",
    "r2"
   ]
  },
  {
   "cell_type": "code",
   "execution_count": null,
   "id": "cf99ff66",
   "metadata": {},
   "outputs": [],
   "source": []
  }
 ],
 "metadata": {
  "kernelspec": {
   "display_name": "env",
   "language": "python",
   "name": "python3"
  },
  "language_info": {
   "codemirror_mode": {
    "name": "ipython",
    "version": 3
   },
   "file_extension": ".py",
   "mimetype": "text/x-python",
   "name": "python",
   "nbconvert_exporter": "python",
   "pygments_lexer": "ipython3",
   "version": "3.11.4"
  }
 },
 "nbformat": 4,
 "nbformat_minor": 5
}
