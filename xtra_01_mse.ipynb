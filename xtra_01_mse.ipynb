{
 "cells": [
  {
   "cell_type": "markdown",
   "id": "074ccfce",
   "metadata": {},
   "source": [
    "### 🧪Coding Challenge: Implementing Mean Squared Error (MSE)"
   ]
  },
  {
   "cell_type": "markdown",
   "id": "ba1ce52b",
   "metadata": {},
   "source": [
    "In this short test, you'll be implementing the **Mean Squared Error (MSE)** using Python **list comprehension**. \n",
    "\n",
    "First, let's understand what MSE means."
   ]
  },
  {
   "cell_type": "markdown",
   "id": "d694e61e",
   "metadata": {},
   "source": [
    "##### Mean Squared Error Formula\n",
    "\n",
    "The Mean Squared Error (MSE) is calculated as:\n",
    "\n",
    "$\n",
    "\\text{MSE} = \\frac{1}{n} \\sum_{i=1}^{n} (y_i - \\hat{y}_i)^2\n",
    "$\n",
    "\n",
    "Where:\n",
    " - $y_i$ is the actual value\n",
    " - $ \\hat{y}_i$ is the predicted value\n",
    " - $ \\text{n} $ is the number of data points\n",
    "\n",
    "Your task: **Recreate this formula using Python list comprehension**"
   ]
  },
  {
   "cell_type": "code",
   "execution_count": 1,
   "id": "5c406ec4",
   "metadata": {},
   "outputs": [],
   "source": [
    "# starter data\n",
    "actual = [3.0, -0.5, 2.0, 7.0]\n",
    "predicted = [2.5, 0.0, 2.0, 8.0]"
   ]
  },
  {
   "cell_type": "markdown",
   "id": "5ea8e559",
   "metadata": {},
   "source": [
    "## 🧠 Challenge\n",
    "\n",
    "Using the lists `actual` and `predicted`, recreate the Mean Squared Error formula using a **single line list comprehension**.\n",
    "\n",
    "> ✨ No loops. No numpy. Just beautiful, clean Python list comprehension!\n",
    "\n",
    "\n"
   ]
  },
  {
   "cell_type": "code",
   "execution_count": 3,
   "id": "04ede136",
   "metadata": {},
   "outputs": [],
   "source": [
    "# Example structure\n",
    "#mse = sum([ ... ]) / len(actual)\n"
   ]
  },
  {
   "cell_type": "code",
   "execution_count": 12,
   "id": "da26ee88",
   "metadata": {},
   "outputs": [],
   "source": [
    "## your code goes here"
   ]
  },
  {
   "cell_type": "markdown",
   "id": "b960768a",
   "metadata": {},
   "source": [
    "##### my answer"
   ]
  },
  {
   "cell_type": "code",
   "execution_count": 11,
   "id": "aa550b02",
   "metadata": {},
   "outputs": [
    {
     "data": {
      "text/plain": [
       "0.375"
      ]
     },
     "execution_count": 11,
     "metadata": {},
     "output_type": "execute_result"
    }
   ],
   "source": [
    "sum([(a - p)**2 for a,p in zip(actual, predicted)]) / len(actual)"
   ]
  }
 ],
 "metadata": {
  "kernelspec": {
   "display_name": "env",
   "language": "python",
   "name": "python3"
  },
  "language_info": {
   "codemirror_mode": {
    "name": "ipython",
    "version": 3
   },
   "file_extension": ".py",
   "mimetype": "text/x-python",
   "name": "python",
   "nbconvert_exporter": "python",
   "pygments_lexer": "ipython3",
   "version": "3.11.4"
  }
 },
 "nbformat": 4,
 "nbformat_minor": 5
}
