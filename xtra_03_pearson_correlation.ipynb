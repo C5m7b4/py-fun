{
 "cells": [
  {
   "cell_type": "code",
   "execution_count": 13,
   "id": "2885768b",
   "metadata": {},
   "outputs": [],
   "source": [
    "import math"
   ]
  },
  {
   "cell_type": "markdown",
   "id": "67d1ce1f",
   "metadata": {},
   "source": [
    "## 📘 Coding Challenge: Pearson Correlation Coefficient\n",
    "\n",
    "### 🧠 Introduction\n",
    "\n",
    "In this challenge, you'll implement the Pearson Correlation Coefficient using pure Python.\n",
    "No numpy. No pandas. Just math and list comprehension magic.\n",
    "\n",
    "This metric is used to measure the strength and direction of a linear relationship between two variables.\n",
    "\n",
    "---\n",
    "\n",
    "\n"
   ]
  },
  {
   "cell_type": "markdown",
   "id": "49f14b5d",
   "metadata": {},
   "source": [
    "\n",
    "📐 Formula\n",
    "\n",
    "$ \n",
    "r = \\frac{\\sum (x_i - \\bar{x})(y_i - \\bar{y})}{\\sqrt{\\sum (x_i - \\bar{x})^2} \\cdot \\sqrt{\\sum (y_i - \\bar{y})^2}} \n",
    "$"
   ]
  },
  {
   "cell_type": "markdown",
   "id": "7ca9d764",
   "metadata": {},
   "source": [
    "Where:\n",
    "- $ x_i $, $ y_i $ are the values\n",
    "- $ \\bar{x} $, $ \\bar{y} $ are the means of the respective variables"
   ]
  },
  {
   "cell_type": "code",
   "execution_count": 2,
   "id": "85be7939",
   "metadata": {},
   "outputs": [],
   "source": [
    "# ✅ Starter Data\n",
    "x = [1, 2, 3, 4, 5]\n",
    "y = [2, 4, 5, 4, 5]"
   ]
  },
  {
   "cell_type": "markdown",
   "id": "bddc6602",
   "metadata": {},
   "source": [
    "TODO: Step 1 - Calculate the means of x and y"
   ]
  },
  {
   "cell_type": "code",
   "execution_count": 3,
   "id": "dca30ec3",
   "metadata": {},
   "outputs": [],
   "source": [
    "mean_x = sum(x) / len(x)\n",
    "mean_y = sum(y) / len(y)"
   ]
  },
  {
   "cell_type": "markdown",
   "id": "c89c85ff",
   "metadata": {},
   "source": [
    "TODO: Step 2 - Calculate the numerator: $ \\text{sum of }(x_i - \\bar{x}) * (y_i - \\bar{y}) $"
   ]
  },
  {
   "cell_type": "code",
   "execution_count": 23,
   "id": "fe0d4862",
   "metadata": {},
   "outputs": [
    {
     "data": {
      "text/plain": [
       "6.0"
      ]
     },
     "execution_count": 23,
     "metadata": {},
     "output_type": "execute_result"
    }
   ],
   "source": [
    "numerator = sum([(xi - mean_x) * (yi - mean_y) for xi, yi in zip(x, y)])\n",
    "numerator"
   ]
  },
  {
   "cell_type": "markdown",
   "id": "c08b2640",
   "metadata": {},
   "source": [
    "TODO: Step 3 - Calculate the denominator:\n",
    "\n",
    "$\n",
    "\\sqrt{\\sum (x_i - \\bar{x})^2} \\times \\sqrt{\\sum (y_i - \\bar{y})^2}\n",
    "$"
   ]
  },
  {
   "cell_type": "code",
   "execution_count": 25,
   "id": "bc425db7",
   "metadata": {},
   "outputs": [
    {
     "data": {
      "text/plain": [
       "7.745966692414833"
      ]
     },
     "execution_count": 25,
     "metadata": {},
     "output_type": "execute_result"
    }
   ],
   "source": [
    "\n",
    "denominator = math.sqrt(sum((xi - mean_x) **2 for xi in x)) * math.sqrt(sum((yi - mean_y) **2 for yi in y))\n",
    "denominator"
   ]
  },
  {
   "cell_type": "markdown",
   "id": "f60efffd",
   "metadata": {},
   "source": [
    "TODO: Step 4 - Calculate r = numerator / denominator"
   ]
  },
  {
   "cell_type": "code",
   "execution_count": 26,
   "id": "5458c117",
   "metadata": {},
   "outputs": [
    {
     "data": {
      "text/plain": [
       "0.7745966692414834"
      ]
     },
     "execution_count": 26,
     "metadata": {},
     "output_type": "execute_result"
    }
   ],
   "source": [
    "result = numerator / denominator\n",
    "result"
   ]
  },
  {
   "cell_type": "markdown",
   "id": "92281e93",
   "metadata": {},
   "source": [
    "Optional: Round to 4 decimal places for readability"
   ]
  },
  {
   "cell_type": "code",
   "execution_count": 27,
   "id": "2d29d2dd",
   "metadata": {},
   "outputs": [
    {
     "data": {
      "text/plain": [
       "0.7746"
      ]
     },
     "execution_count": 27,
     "metadata": {},
     "output_type": "execute_result"
    }
   ],
   "source": [
    "round(result, 4)"
   ]
  },
  {
   "cell_type": "markdown",
   "id": "5a36eb6b",
   "metadata": {},
   "source": [
    "Expected: A value between -1 and 1 indicating correlation strength\n",
    "Example output: r = 0.7746\n",
    "\n",
    "Print it\n",
    "print(f\"Pearson Correlation Coefficient: {r}\")"
   ]
  },
  {
   "cell_type": "code",
   "execution_count": 28,
   "id": "b9b55471",
   "metadata": {},
   "outputs": [
    {
     "name": "stdout",
     "output_type": "stream",
     "text": [
      "Pearson Correlation Coefficient: 0.7746\n"
     ]
    }
   ],
   "source": [
    "print(f\"Pearson Correlation Coefficient: {round(result, 4)}\")"
   ]
  },
  {
   "cell_type": "markdown",
   "id": "f0a2a44d",
   "metadata": {},
   "source": [
    "\n",
    "🎯 Bonus Challenge\n",
    "We are not going to do this, but it's just a thought to leave with you for when you are fealing fiesty! 🏑\n",
    "\n",
    "Create a function `pearson_corr(x, y)` that returns r.\n",
    "\n",
    "Test it with different input pairs."
   ]
  }
 ],
 "metadata": {
  "kernelspec": {
   "display_name": "env",
   "language": "python",
   "name": "python3"
  },
  "language_info": {
   "codemirror_mode": {
    "name": "ipython",
    "version": 3
   },
   "file_extension": ".py",
   "mimetype": "text/x-python",
   "name": "python",
   "nbconvert_exporter": "python",
   "pygments_lexer": "ipython3",
   "version": "3.11.4"
  }
 },
 "nbformat": 4,
 "nbformat_minor": 5
}
