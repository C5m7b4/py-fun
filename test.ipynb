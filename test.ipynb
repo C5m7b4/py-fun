{
 "cells": [
  {
   "cell_type": "markdown",
   "id": "8ea24259",
   "metadata": {},
   "source": [
    "# import libraries"
   ]
  },
  {
   "cell_type": "code",
   "execution_count": 2,
   "id": "e0bb042a",
   "metadata": {},
   "outputs": [],
   "source": [
    "import pandas as pd"
   ]
  },
  {
   "cell_type": "markdown",
   "id": "54993cbf",
   "metadata": {},
   "source": [
    "# import data"
   ]
  },
  {
   "cell_type": "code",
   "execution_count": 3,
   "id": "f293a7c4",
   "metadata": {},
   "outputs": [],
   "source": [
    "ds = pd.read_csv('sales_export.csv')\n"
   ]
  },
  {
   "cell_type": "markdown",
   "id": "ab3ae42a",
   "metadata": {},
   "source": [
    "# EDA"
   ]
  },
  {
   "cell_type": "code",
   "execution_count": 22,
   "id": "9d29e5ce",
   "metadata": {},
   "outputs": [],
   "source": [
    "# check the first few records\n"
   ]
  },
  {
   "cell_type": "code",
   "execution_count": null,
   "id": "c5fffbca",
   "metadata": {},
   "outputs": [],
   "source": [
    "# get the info"
   ]
  },
  {
   "cell_type": "code",
   "execution_count": 24,
   "id": "b092f0e2",
   "metadata": {},
   "outputs": [],
   "source": [
    "# display the column names"
   ]
  },
  {
   "cell_type": "markdown",
   "id": "7b225a72",
   "metadata": {},
   "source": [
    "## show voided items\n",
    "void_flag should equal 1"
   ]
  },
  {
   "cell_type": "markdown",
   "id": "360c424f",
   "metadata": {},
   "source": [
    "![voided](images/voided_items.png)"
   ]
  },
  {
   "cell_type": "markdown",
   "id": "7ec38316",
   "metadata": {},
   "source": [
    "## show refund items\n",
    "refund_flag should equal 1"
   ]
  },
  {
   "cell_type": "markdown",
   "id": "9f212434",
   "metadata": {},
   "source": [
    "![refunds](images/refunds1.png)"
   ]
  },
  {
   "cell_type": "code",
   "execution_count": null,
   "id": "fbcd0595",
   "metadata": {},
   "outputs": [],
   "source": [
    "# change sale_type column to 'Refunded' for all refunded items and then show the results"
   ]
  },
  {
   "cell_type": "markdown",
   "id": "6151ee57",
   "metadata": {},
   "source": [
    "![refund_result](images/refund_result.png)"
   ]
  },
  {
   "cell_type": "code",
   "execution_count": 7,
   "id": "948a3b49",
   "metadata": {},
   "outputs": [],
   "source": [
    "# show unique values for the sale_type column"
   ]
  },
  {
   "cell_type": "markdown",
   "id": "b32880c7",
   "metadata": {},
   "source": [
    "![unique](images/unique.png)"
   ]
  }
 ],
 "metadata": {
  "kernelspec": {
   "display_name": "env",
   "language": "python",
   "name": "python3"
  },
  "language_info": {
   "codemirror_mode": {
    "name": "ipython",
    "version": 3
   },
   "file_extension": ".py",
   "mimetype": "text/x-python",
   "name": "python",
   "nbconvert_exporter": "python",
   "pygments_lexer": "ipython3",
   "version": "3.11.4"
  }
 },
 "nbformat": 4,
 "nbformat_minor": 5
}
